{
 "cells": [
  {
   "cell_type": "code",
   "execution_count": 17,
   "id": "1f942dc7-37a8-4776-a448-b80bce701ec7",
   "metadata": {},
   "outputs": [],
   "source": [
    "import tensorflow as tf\n",
    "from tensorflow.keras.models import load_model\n",
    "from tensorflow import keras\n",
    "\n",
    "# 設定 TensorFlow 日誌級別為 ERROR\n",
    "tf.get_logger().setLevel('ERROR')"
   ]
  },
  {
   "cell_type": "code",
   "execution_count": 19,
   "id": "65cfd151-ff8e-4096-8935-bbfb2df1998d",
   "metadata": {},
   "outputs": [],
   "source": [
    "# 載入已訓練好的模型\n",
    "model = load_model('model.h5')\n",
    "\n",
    "model.compile(loss=keras.losses.categorical_crossentropy,\n",
    "              optimizer=keras.optimizers.Adadelta(),\n",
    "              metrics=['accuracy'])\n",
    "\n",
    "# 建立 TensorFlow Lite Converter 物件\n",
    "converter = tf.lite.TFLiteConverter.from_keras_model(model)\n",
    "\n",
    "# 開啟量化設定\n",
    "converter.optimizations = [tf.lite.Optimize.DEFAULT]\n",
    "\n",
    "# 進行量化\n",
    "tflite_model = converter.convert()\n",
    "\n",
    "# 儲存量化後的 TFLite 模型\n",
    "with open('quantized_model.tflite', 'wb') as f:\n",
    "    f.write(tflite_model)"
   ]
  },
  {
   "cell_type": "code",
   "execution_count": 20,
   "id": "c046d7ca-a709-434b-b25c-9f4dca820f04",
   "metadata": {},
   "outputs": [
    {
     "name": "stdout",
     "output_type": "stream",
     "text": [
      "Original model size: 16.974868774414062 MB\n",
      "Quantized model size: 4.247184753417969 MB\n"
     ]
    }
   ],
   "source": [
    "import os\n",
    "\n",
    "# 檢查模型大小\n",
    "original_model_size = os.path.getsize('model.h5') / (1024 * 1024)  # 轉換成MB\n",
    "quantized_model_size = os.path.getsize('quantized_model.tflite') / (1024 * 1024)\n",
    "\n",
    "print(f\"Original model size: {original_model_size} MB\")\n",
    "print(f\"Quantized model size: {quantized_model_size} MB\")"
   ]
  },
  {
   "cell_type": "code",
   "execution_count": null,
   "id": "de893e31-706f-4bd5-b419-da7bfe542d66",
   "metadata": {},
   "outputs": [],
   "source": []
  }
 ],
 "metadata": {
  "kernelspec": {
   "display_name": "Python [conda env:PythonProjects-TinyModel_env]",
   "language": "python",
   "name": "conda-env-PythonProjects-TinyModel_env-py"
  },
  "language_info": {
   "codemirror_mode": {
    "name": "ipython",
    "version": 3
   },
   "file_extension": ".py",
   "mimetype": "text/x-python",
   "name": "python",
   "nbconvert_exporter": "python",
   "pygments_lexer": "ipython3",
   "version": "3.10.13"
  }
 },
 "nbformat": 4,
 "nbformat_minor": 5
}
